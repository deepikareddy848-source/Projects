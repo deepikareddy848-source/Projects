{
  "nbformat": 4,
  "nbformat_minor": 0,
  "metadata": {
    "colab": {
      "private_outputs": true,
      "provenance": [],
      "collapsed_sections": [
        "vncDsAP0Gaoa",
        "FJNUwmbgGyua",
        "w6K7xa23Elo4",
        "yQaldy8SH6Dl",
        "PH-0ReGfmX4f",
        "mDgbUHAGgjLW",
        "O_i_v8NEhb9l",
        "HhfV-JJviCcP",
        "Y3lxredqlCYt",
        "3RnN4peoiCZX",
        "x71ZqKXriCWQ",
        "7hBIi_osiCS2",
        "JlHwYmJAmNHm",
        "35m5QtbWiB9F",
        "PoPl-ycgm1ru",
        "H0kj-8xxnORC",
        "nA9Y7ga8ng1Z",
        "PBTbrJXOngz2",
        "u3PMJOP6ngxN",
        "dauF4eBmngu3",
        "bKJF3rekwFvQ",
        "MSa1f5Uengrz",
        "GF8Ens_Soomf",
        "0wOQAZs5pc--",
        "K5QZ13OEpz2H",
        "lQ7QKXXCp7Bj",
        "448CDAPjqfQr",
        "KSlN3yHqYklG",
        "t6dVpIINYklI",
        "ijmpgYnKYklI",
        "-JiQyfWJYklI",
        "EM7whBJCYoAo",
        "fge-S5ZAYoAp",
        "85gYPyotYoAp",
        "RoGjAbkUYoAp",
        "4Of9eVA-YrdM",
        "iky9q4vBYrdO",
        "F6T5p64dYrdO",
        "y-Ehk30pYrdP",
        "bamQiAODYuh1",
        "QHF8YVU7Yuh3",
        "GwzvFGzlYuh3",
        "qYpmQ266Yuh3",
        "OH-pJp9IphqM",
        "bbFf2-_FphqN",
        "_ouA3fa0phqN",
        "Seke61FWphqN",
        "PIIx-8_IphqN",
        "t27r6nlMphqO",
        "r2jJGEOYphqO",
        "b0JNsNcRphqO",
        "BZR9WyysphqO",
        "jj7wYXLtphqO",
        "eZrbJ2SmphqO",
        "rFu4xreNphqO",
        "YJ55k-q6phqO",
        "gCFgpxoyphqP",
        "OVtJsKN_phqQ",
        "lssrdh5qphqQ",
        "U2RJ9gkRphqQ",
        "1M8mcRywphqQ",
        "tgIPom80phqQ",
        "JMzcOPDDphqR",
        "x-EpHcCOp1ci",
        "X_VqEhTip1ck",
        "8zGJKyg5p1ck",
        "PVzmfK_Ep1ck",
        "n3dbpmDWp1ck",
        "ylSl6qgtp1ck",
        "ZWILFDl5p1ck",
        "M7G43BXep1ck",
        "Ag9LCva-p1cl",
        "E6MkPsBcp1cl",
        "2cELzS2fp1cl",
        "3MPXvC8up1cl",
        "NC_X3p0fY2L0",
        "UV0SzAkaZNRQ",
        "YPEH6qLeZNRQ",
        "q29F0dvdveiT",
        "EXh0U9oCveiU",
        "22aHeOlLveiV",
        "JcMwzZxoAimU",
        "8G2x9gOozGDZ",
        "gCX9965dhzqZ",
        "gIfDvo9L0UH2"
      ]
    },
    "kernelspec": {
      "name": "python3",
      "display_name": "Python 3"
    },
    "language_info": {
      "name": "python"
    }
  },
  "cells": [
    {
      "cell_type": "code",
      "source": [],
      "metadata": {
        "id": "I1apcow5dxii"
      },
      "execution_count": null,
      "outputs": []
    },
    {
      "cell_type": "markdown",
      "source": [
        "# **Project Name**    -\n",
        "\n"
      ],
      "metadata": {
        "id": "vncDsAP0Gaoa"
      }
    },
    {
      "cell_type": "markdown",
      "source": [
        "##### **Project Type**    - EDA/Regression/Classification/Unsupervised\n",
        "##### **Contribution**    - Individual/Team\n",
        "name - Deepika k"
      ],
      "metadata": {
        "id": "beRrZCGUAJYm"
      }
    },
    {
      "cell_type": "markdown",
      "source": [
        "# **Project Summary -**"
      ],
      "metadata": {
        "id": "FJNUwmbgGyua"
      }
    },
    {
      "cell_type": "markdown",
      "source": [
        "A wide range of projects, including the original company's business and technological evolution, or data science projects analyzing Uber data. Common themes in data projects involve using machine learning to predict ride prices or clustering pickup locations, while broader business projects analyze market position, strategic growth, and challenges like regulatory battles."
      ],
      "metadata": {
        "id": "F6v_1wHtG2nS"
      }
    },
    {
      "cell_type": "markdown",
      "source": [
        "# **GitHub Link -**"
      ],
      "metadata": {
        "id": "w6K7xa23Elo4"
      }
    },
    {
      "cell_type": "markdown",
      "source": [
        "Provide your GitHub Link here."
      ],
      "metadata": {
        "id": "h1o69JH3Eqqn"
      }
    },
    {
      "cell_type": "markdown",
      "source": [
        "# ***Let's Begin !***"
      ],
      "metadata": {
        "id": "O_i_v8NEhb9l"
      }
    },
    {
      "cell_type": "markdown",
      "source": [
        "## ***1. Know Your Data***"
      ],
      "metadata": {
        "id": "HhfV-JJviCcP"
      }
    },
    {
      "cell_type": "markdown",
      "source": [
        "### Import Libraries"
      ],
      "metadata": {
        "id": "Y3lxredqlCYt"
      }
    },
    {
      "cell_type": "code",
      "source": [
        "# Import Libraries\n",
        "import numpy as np\n",
        "import pandas as pd\n",
        "import matplotlib.pyplot as plt\n",
        "import matplotlib.cm as cm\n",
        "import seaborn as sns\n",
        "from sklearn.ensemble import RandomForestClassifier\n",
        "from sklearn.model_selection import train_test_split\n",
        "from sklearn.metrics import accuracy_score, confusion_matrix, classification_report\n",
        "from sklearn.preprocessing import StandardScaler\n",
        "import plotly.express as px\n",
        "import random\n",
        "from wordcloud import wordcloud\n",
        "import ast\n",
        "import statsmodels as stat\n",
        "import geopandas as gpd\n",
        "import missingno as ms"
      ],
      "metadata": {
        "id": "M8Vqi-pPk-HR"
      },
      "execution_count": null,
      "outputs": []
    },
    {
      "cell_type": "markdown",
      "source": [
        "### Dataset Loading"
      ],
      "metadata": {
        "id": "3RnN4peoiCZX"
      }
    },
    {
      "cell_type": "code",
      "source": [
        "# Load Dataset\n",
        "from google.colab import drive\n",
        "drive.mount('/content/drive')\n",
        "df=pd.read_csv('//content//drive//MyDrive//Uber.csv')"
      ],
      "metadata": {
        "id": "4CkvbW_SlZ_R"
      },
      "execution_count": null,
      "outputs": []
    },
    {
      "cell_type": "markdown",
      "source": [
        "### Dataset First View"
      ],
      "metadata": {
        "id": "x71ZqKXriCWQ"
      }
    },
    {
      "cell_type": "code",
      "source": [
        "# Dataset First Look\n",
        "df.head()"
      ],
      "metadata": {
        "id": "LWNFOSvLl09H"
      },
      "execution_count": null,
      "outputs": []
    },
    {
      "cell_type": "markdown",
      "source": [
        "### Dataset Rows & Columns count"
      ],
      "metadata": {
        "id": "7hBIi_osiCS2"
      }
    },
    {
      "cell_type": "code",
      "source": [
        "# Dataset Rows & Columns count\n",
        "df.shape"
      ],
      "metadata": {
        "id": "Kllu7SJgmLij"
      },
      "execution_count": null,
      "outputs": []
    },
    {
      "cell_type": "markdown",
      "source": [
        "### Dataset Information"
      ],
      "metadata": {
        "id": "JlHwYmJAmNHm"
      }
    },
    {
      "cell_type": "code",
      "source": [
        "# Dataset Info\n",
        "df.info()"
      ],
      "metadata": {
        "id": "e9hRXRi6meOf"
      },
      "execution_count": null,
      "outputs": []
    },
    {
      "cell_type": "markdown",
      "source": [
        "#### Duplicate Values"
      ],
      "metadata": {
        "id": "35m5QtbWiB9F"
      }
    },
    {
      "cell_type": "code",
      "source": [
        "# Dataset Duplicate Value Count\n",
        "df.duplicated().sum()"
      ],
      "metadata": {
        "id": "1sLdpKYkmox0"
      },
      "execution_count": null,
      "outputs": []
    },
    {
      "cell_type": "markdown",
      "source": [
        "#### Missing Values/Null Values"
      ],
      "metadata": {
        "id": "PoPl-ycgm1ru"
      }
    },
    {
      "cell_type": "code",
      "source": [
        "# Missing Values/Null Values Count\n",
        "df.isnull().sum()"
      ],
      "metadata": {
        "id": "GgHWkxvamxVg"
      },
      "execution_count": null,
      "outputs": []
    },
    {
      "cell_type": "code",
      "source": [
        "# Visualizing the missing values\n",
        "ms.bar(df)"
      ],
      "metadata": {
        "id": "3q5wnI3om9sJ"
      },
      "execution_count": null,
      "outputs": []
    },
    {
      "cell_type": "markdown",
      "source": [
        "## ***2. Understanding Your Variables***"
      ],
      "metadata": {
        "id": "nA9Y7ga8ng1Z"
      }
    },
    {
      "cell_type": "code",
      "source": [
        "# Dataset Columns\n",
        "df.columns"
      ],
      "metadata": {
        "id": "j7xfkqrt5Ag5"
      },
      "execution_count": null,
      "outputs": []
    },
    {
      "cell_type": "code",
      "source": [
        "# Dataset Describe\n",
        "df.describe()"
      ],
      "metadata": {
        "id": "DnOaZdaE5Q5t"
      },
      "execution_count": null,
      "outputs": []
    },
    {
      "cell_type": "markdown",
      "source": [
        "### Variables Description"
      ],
      "metadata": {
        "id": "PBTbrJXOngz2"
      }
    },
    {
      "cell_type": "markdown",
      "source": [
        "Answer Here"
      ],
      "metadata": {
        "id": "aJV4KIxSnxay"
      }
    },
    {
      "cell_type": "markdown",
      "source": [
        "### Check Unique Values for each variable."
      ],
      "metadata": {
        "id": "u3PMJOP6ngxN"
      }
    },
    {
      "cell_type": "code",
      "source": [
        "# Check Unique Values for each variable.\n",
        "df.nunique()"
      ],
      "metadata": {
        "id": "zms12Yq5n-jE"
      },
      "execution_count": null,
      "outputs": []
    },
    {
      "cell_type": "markdown",
      "source": [
        "## 3. ***Data Wrangling***"
      ],
      "metadata": {
        "id": "dauF4eBmngu3"
      }
    },
    {
      "cell_type": "markdown",
      "source": [
        "### Data Wrangling Code"
      ],
      "metadata": {
        "id": "bKJF3rekwFvQ"
      }
    },
    {
      "cell_type": "code",
      "source": [
        "df['Driver id']=df['Driver id'].fillna(df['Driver id'].mode()[0])"
      ],
      "metadata": {
        "id": "xR2RrAeCucV9"
      },
      "execution_count": null,
      "outputs": []
    },
    {
      "cell_type": "code",
      "source": [
        "df[\"Request timestamp\"] = pd.to_datetime(df[\"Request timestamp\"], format='%d/%m/%y %H:%M')"
      ],
      "metadata": {
        "id": "_c2vvBo6vV5L"
      },
      "execution_count": null,
      "outputs": []
    },
    {
      "cell_type": "code",
      "source": [
        "df['Drop timestamp']=df['Drop timestamp'].fillna(df['Drop timestamp'].mode()[0])\n"
      ],
      "metadata": {
        "id": "nsXaMPHDrn_m"
      },
      "execution_count": null,
      "outputs": []
    },
    {
      "cell_type": "code",
      "source": [
        "df.isnull().sum()"
      ],
      "metadata": {
        "id": "91JJIYn7xd70"
      },
      "execution_count": null,
      "outputs": []
    },
    {
      "cell_type": "markdown",
      "source": [
        "## ***4. Data Vizualization, Storytelling & Experimenting with charts : Understand the relationships between variables***"
      ],
      "metadata": {
        "id": "GF8Ens_Soomf"
      }
    },
    {
      "cell_type": "markdown",
      "source": [
        "#### Chart - 1"
      ],
      "metadata": {
        "id": "0wOQAZs5pc--"
      }
    },
    {
      "cell_type": "code",
      "source": [
        "# Chart - 1 visualization code\n",
        "plt.style.use('dark_background')\n",
        "plt.figure(figsize=(8,8))\n",
        "ax=sns.countplot(x='Status',data=df,hue='Status',palette=\"dark\",legend=0)\n",
        "for p in ax.patches:\n",
        "  count=int(p.get_height())\n",
        "  x=p.get_x()+p.get_width()/2\n",
        "  y=p.get_height()\n",
        "  ax.annotate(\n",
        "  str(count),\n",
        "  (x,y),ha='center',va='bottom')\n",
        "plt.title('count each status type')\n",
        "plt.xlabel('Status')\n",
        "plt.ylabel('count')\n",
        "plt.grid(False)\n",
        "plt.tight_layout()\n",
        "plt.show()"
      ],
      "metadata": {
        "id": "7v_ESjsspbW7"
      },
      "execution_count": null,
      "outputs": []
    },
    {
      "cell_type": "markdown",
      "source": [
        "#### Chart - 2"
      ],
      "metadata": {
        "id": "KSlN3yHqYklG"
      }
    },
    {
      "cell_type": "code",
      "source": [
        "# Chart - 2 visualization code\n",
        "plt.figure(figsize=(8,8))\n",
        "ax=sns.countplot(x='Pickup point',data=df,hue='Pickup point',palette=\"coolwarm\",legend=0)\n",
        "for p in ax.patches:\n",
        "  count=int(p.get_height())\n",
        "  x=p.get_x()+p.get_width()/2\n",
        "  y=p.get_height()\n",
        "  ax.annotate(\n",
        "  str(count),\n",
        "  (x,y),ha='center',va='bottom')\n",
        "plt.title('count each pickup point')\n",
        "plt.xlabel('Pickup point')\n",
        "plt.ylabel('count')\n",
        "plt.grid(False)\n",
        "plt.tight_layout()\n",
        "plt.show()\n"
      ],
      "metadata": {
        "id": "R4YgtaqtYklH"
      },
      "execution_count": null,
      "outputs": []
    },
    {
      "cell_type": "markdown",
      "source": [
        "#### Chart - 3"
      ],
      "metadata": {
        "id": "EM7whBJCYoAo"
      }
    },
    {
      "cell_type": "code",
      "source": [
        "# Chart - 3 visualization code\n",
        "trip_c=df[df.Status=='Trip Completed'].groupby('Pickup point')['Pickup point'].count()\n",
        "trip_c_1=pd.DataFrame(trip_c)\n",
        "trip_c_1.rename(columns={'Pickup point': 'count'}, inplace=True)\n",
        "trip_c_1.reset_index(inplace=True)\n",
        "plt.figure(figsize=(8,8))\n",
        "ax=sns.barplot(x='Pickup point',y='count',data=trip_c_1,hue='Pickup point',palette=\"coolwarm\",legend=0)\n",
        "for p in ax.patches:\n",
        "  count=int(p.get_height())\n",
        "  x=p.get_x()+p.get_width()/2\n",
        "  y=p.get_height()\n",
        "  ax.annotate(\n",
        "  str(count),\n",
        "  (x,y),ha='center',va='bottom')\n",
        "plt.title('count each pickup fro trip completed')\n",
        "plt.xlabel('Pickup point')\n",
        "plt.ylabel('count')\n",
        "plt.grid(False)\n",
        "plt.tight_layout()\n",
        "plt.show()"
      ],
      "metadata": {
        "id": "t6GMdE67YoAp"
      },
      "execution_count": null,
      "outputs": []
    },
    {
      "cell_type": "markdown",
      "source": [
        "#### Chart - 4"
      ],
      "metadata": {
        "id": "4Of9eVA-YrdM"
      }
    },
    {
      "cell_type": "code",
      "source": [
        "# Chart - 4 visualization code\n",
        "cancel=df[df.Status=='Cancelled'].groupby('Pickup point')['Pickup point'].count()\n",
        "cancel_1=pd.DataFrame(cancel)\n",
        "cancel_1.rename(columns={'Pickup point': 'count'}, inplace=True)\n",
        "cancel_1.reset_index(inplace=True)\n",
        "plt.figure(figsize=(8,8))\n",
        "ax=sns.barplot(x='Pickup point',y='count',data=cancel_1,hue='Pickup point',palette=\"coolwarm\",legend=0)\n",
        "for p in ax.patches:\n",
        "  count=int(p.get_height())\n",
        "  x=p.get_x()+p.get_width()/2\n",
        "  y=p.get_height()\n",
        "  ax.annotate(\n",
        "  str(count),\n",
        "  (x,y),ha='center',va='bottom')\n",
        "plt.title('count each pickup cancelled')\n",
        "plt.xlabel('Pickup point')\n",
        "plt.ylabel('count')\n",
        "plt.grid(False)\n",
        "plt.tight_layout()\n",
        "plt.show()\n"
      ],
      "metadata": {
        "id": "irlUoxc8YrdO"
      },
      "execution_count": null,
      "outputs": []
    },
    {
      "cell_type": "markdown",
      "source": [
        "#### Chart - 5"
      ],
      "metadata": {
        "id": "bamQiAODYuh1"
      }
    },
    {
      "cell_type": "code",
      "source": [
        "# Chart - 5 visualization code\n",
        "nocars=df[df.Status=='No Cars Available'].groupby('Pickup point')['Pickup point'].count()\n",
        "nocars_1=pd.DataFrame(nocars)\n",
        "nocars_1.rename(columns={'Pickup point': 'count'}, inplace=True)\n",
        "nocars_1.reset_index(inplace=True)\n",
        "plt.figure(figsize=(8,8))\n",
        "ax=sns.barplot(x='Pickup point',y='count',data=nocars_1,hue='Pickup point',palette=\"coolwarm\",legend=0)\n",
        "for p in ax.patches:\n",
        "  count=int(p.get_height())\n",
        "  x=p.get_x()+p.get_width()/2\n",
        "  y=p.get_height()\n",
        "  ax.annotate(\n",
        "  str(count),\n",
        "  (x,y),ha='center',va='bottom')\n",
        "plt.title('count no cars')\n",
        "plt.xlabel('Pickup point')\n",
        "plt.ylabel('count')\n",
        "plt.grid(False)\n",
        "plt.tight_layout()\n",
        "plt.show()\n"
      ],
      "metadata": {
        "id": "TIJwrbroYuh3"
      },
      "execution_count": null,
      "outputs": []
    },
    {
      "cell_type": "code",
      "source": [
        "# Chart - 6 visualization code\n",
        "airport_df=df[df['Pickup point'].str.strip()=='Airport']\n",
        "type_count=airport_df['Status'].value_counts().reset_index()\n",
        "type_count.columns=['Status','count']\n",
        "fig=px.treemap(type_count,path=['Status'],values='count',title='Status Count in Airport')\n",
        "fig.show()"
      ],
      "metadata": {
        "id": "kuRf4wtuphqN"
      },
      "execution_count": null,
      "outputs": []
    },
    {
      "cell_type": "markdown",
      "source": [
        "#### Chart - 7"
      ],
      "metadata": {
        "id": "PIIx-8_IphqN"
      }
    },
    {
      "cell_type": "code",
      "source": [
        "# Chart - 7 visualization code\n",
        "city_df=df[df['Pickup point'].str.strip()=='City']\n",
        "city_count=city_df['Status'].value_counts().reset_index()\n",
        "city_count.columns=['Status','count']\n",
        "fig=px.treemap(city_count,path=['Status'],values='count',title='Status Count in city')\n",
        "fig.show()\n"
      ],
      "metadata": {
        "id": "lqAIGUfyphqO"
      },
      "execution_count": null,
      "outputs": []
    },
    {
      "cell_type": "markdown",
      "source": [
        "#### Chart - 8"
      ],
      "metadata": {
        "id": "BZR9WyysphqO"
      }
    },
    {
      "cell_type": "code",
      "source": [
        "# Chart - 8 visualization code\n",
        "p_1=df.groupby([\"Request timestamp\",\"Pickup point\"]).size().unstack(fill_value=0)\n",
        "p_2=p_1.div(p_1.sum(axis=1), axis=0)*100\n",
        "\n",
        "top_p=p_1.sum(axis=1).sort_values(ascending=False).head(20).index\n",
        "p_top20=p_2.loc[top_p]\n",
        "\n",
        "fig, ax=plt.subplots(figsize=(15,8))\n",
        "p_top20.plot(kind=\"barh\",stacked=True,colormap=\"summer\",ax=ax)\n",
        "\n",
        "plt.xlabel(\"Distribution for pickup point\")\n",
        "plt.ylabel(\"Request Timestamp\")\n",
        "plt.title(\"Distribution of pickup point vs Request time\")\n",
        "plt.legend(title=\"Pickup point\",bbox_to_anchor=(1.05,1),loc=\"upper left\")\n",
        "\n",
        "plt.tight_layout()\n",
        "plt.show()"
      ],
      "metadata": {
        "id": "TdPTWpAVphqO"
      },
      "execution_count": null,
      "outputs": []
    },
    {
      "cell_type": "markdown",
      "source": [
        "#### Chart - 9"
      ],
      "metadata": {
        "id": "YJ55k-q6phqO"
      }
    },
    {
      "cell_type": "code",
      "source": [
        "# Chart - 9 visualization code\n",
        "s_1=df.groupby([\"Request timestamp\",\"Status\"]).size().unstack(fill_value=0)\n",
        "s_2=s_1.div(s_1.sum(axis=1), axis=0)*100\n",
        "\n",
        "top_s=s_1.sum(axis=1).sort_values(ascending=False).head(20).index\n",
        "s_top20=s_2.loc[top_s]\n",
        "\n",
        "fig, ax=plt.subplots(figsize=(15,8))\n",
        "s_top20.plot(kind=\"barh\",stacked=True,colormap=\"plasma\",ax=ax)\n",
        "\n",
        "plt.xlabel(\"Distribution for status\")\n",
        "plt.ylabel(\"Request Timestamp\")\n",
        "plt.title(\"Distribution of status vs Request time\")\n",
        "plt.legend(title=\"status\",bbox_to_anchor=(1.05,1),loc=\"upper left\")\n",
        "\n",
        "plt.tight_layout()\n",
        "plt.show()"
      ],
      "metadata": {
        "id": "B2aS4O1ophqO"
      },
      "execution_count": null,
      "outputs": []
    },
    {
      "cell_type": "markdown",
      "source": [
        "#### Chart - 10"
      ],
      "metadata": {
        "id": "U2RJ9gkRphqQ"
      }
    },
    {
      "cell_type": "code",
      "source": [
        "# Chart - 10 visualization code\n",
        "pd_1=df.groupby([\"Drop timestamp\",\"Pickup point\"]).size().unstack(fill_value=0)\n",
        "pd_2=pd_1.div(pd_1.sum(axis=1), axis=0)*100\n",
        "\n",
        "top_pd=pd_1.sum(axis=1).sort_values(ascending=False).head(20).index\n",
        "pd_top20=pd_2.loc[top_pd]\n",
        "\n",
        "fig, ax=plt.subplots(figsize=(15,8))\n",
        "pd_top20.plot(kind=\"barh\",stacked=True,colormap=\"coolwarm\",ax=ax)\n",
        "\n",
        "plt.xlabel(\"Distribution for pickup point\")\n",
        "plt.ylabel(\"Drop Timestamp\")\n",
        "plt.title(\"Distribution of pickup point vs Drop time\")\n",
        "plt.legend(title=\"Pickup point\",bbox_to_anchor=(1.05,1),loc=\"upper left\")\n",
        "\n",
        "plt.tight_layout()\n",
        "plt.show()"
      ],
      "metadata": {
        "id": "GM7a4YP4phqQ"
      },
      "execution_count": null,
      "outputs": []
    },
    {
      "cell_type": "markdown",
      "source": [
        "#### Chart - 11"
      ],
      "metadata": {
        "id": "x-EpHcCOp1ci"
      }
    },
    {
      "cell_type": "code",
      "source": [
        "# Chart - 11 visualization code\n",
        "sd_1=df.groupby([\"Drop timestamp\",\"Status\"]).size().unstack(fill_value=0)\n",
        "sd_2=sd_1.div(sd_1.sum(axis=1), axis=0)*100\n",
        "\n",
        "top_sd=sd_1.sum(axis=1).sort_values(ascending=False).head(20).index\n",
        "sd_top20=sd_2.loc[top_sd]\n",
        "\n",
        "fig, ax=plt.subplots(figsize=(15,8))\n",
        "sd_top20.plot(kind=\"barh\",stacked=True,colormap=\"plasma\",ax=ax)\n",
        "\n",
        "plt.xlabel(\"Distribution for status\")\n",
        "plt.ylabel(\"Drop Timestamp\")\n",
        "plt.title(\"Distribution of status vs Drop time\")\n",
        "plt.legend(title=\"status\",bbox_to_anchor=(1.05,1),loc=\"upper left\")\n",
        "\n",
        "plt.tight_layout()\n",
        "plt.show()"
      ],
      "metadata": {
        "id": "mAQTIvtqp1cj"
      },
      "execution_count": null,
      "outputs": []
    },
    {
      "cell_type": "markdown",
      "source": [
        "#### Chart - 12"
      ],
      "metadata": {
        "id": "n3dbpmDWp1ck"
      }
    },
    {
      "cell_type": "code",
      "source": [
        "# Chart - 12 visualization code\n",
        "co= df['Request timestamp'].value_counts().head(10)\n",
        "plt.figure(figsize=(15,7))\n",
        "co.plot(\n",
        "    kind='pie',\n",
        "    labels=co.index,\n",
        "    autopct=lambda p:'{:.0f}%'.format(p),\n",
        "    colors=['yellow','crimson'],\n",
        "    startangle=90,\n",
        "    wedgeprops={'edgecolor':'black'},\n",
        "    textprops={'fontsize':14}\n",
        ")\n",
        "plt.title(\"Top 10 Request timestamp\")\n",
        "plt.ylabel('')\n",
        "plt.tight_layout()\n",
        "plt.show()"
      ],
      "metadata": {
        "id": "bwevp1tKp1ck"
      },
      "execution_count": null,
      "outputs": []
    },
    {
      "cell_type": "markdown",
      "source": [
        "#### Chart - 13"
      ],
      "metadata": {
        "id": "Ag9LCva-p1cl"
      }
    },
    {
      "cell_type": "code",
      "source": [
        "# Chart - 13 visualization code\n",
        "df.columns=df.columns.str.strip()\n",
        "\n",
        "df['Driver id']=pd.to_numeric(df['Driver id'], errors='coerce')\n",
        "df['Request id']=pd.to_numeric(df['Request id'], errors='coerce')\n",
        "\n",
        "df=df.dropna(subset=['Driver id','Request id'])\n",
        "top=df[['Request id','Driver id']].sort_values(by='Driver id',ascending=False).head(15)\n",
        "plt.figure(figsize=(15,7))\n",
        "\n",
        "plt.plot(top['Request id'], top['Driver id'],marker='o',color='tab:blue',linestyle='-')\n",
        "\n",
        "plt.xlabel(\"Request id\")\n",
        "plt.ylabel(\"Driver id\")\n",
        "plt.title(\"Top 15 Request id vs Driver id\")\n",
        "plt.grid(True)\n",
        "plt.show()"
      ],
      "metadata": {
        "id": "EUfxeq9-p1cl"
      },
      "execution_count": null,
      "outputs": []
    },
    {
      "cell_type": "markdown",
      "source": [
        "#### Chart - 14 - Correlation Heatmap"
      ],
      "metadata": {
        "id": "NC_X3p0fY2L0"
      }
    },
    {
      "cell_type": "code",
      "source": [
        "# Correlation Heatmap visualization code\n",
        "numeric=df.select_dtypes(include=['int64','float64'])\n",
        "corr=numeric.corr().fillna(0)\n",
        "plt.figure(figsize=(15,10))\n",
        "\n",
        "sns.heatmap(corr,annot=True,cmap='Set1',fmt=\".2f\",linewidth=0.5)\n",
        "plt.title('Correlation Heatmap')\n",
        "plt.show()"
      ],
      "metadata": {
        "id": "xyC9zolEZNRQ"
      },
      "execution_count": null,
      "outputs": []
    },
    {
      "cell_type": "markdown",
      "source": [
        "#### Chart - 15 - Pair Plot"
      ],
      "metadata": {
        "id": "q29F0dvdveiT"
      }
    },
    {
      "cell_type": "code",
      "source": [
        "# Pair Plot visualization code\n",
        "sns.pairplot(df)"
      ],
      "metadata": {
        "id": "o58-TEIhveiU"
      },
      "execution_count": null,
      "outputs": []
    },
    {
      "cell_type": "markdown",
      "source": [
        "## **5. Solution to Business Objective**"
      ],
      "metadata": {
        "id": "JcMwzZxoAimU"
      }
    },
    {
      "cell_type": "markdown",
      "source": [
        "#### What do you suggest the client to achieve Business Objective ?\n",
        "Explain Briefly."
      ],
      "metadata": {
        "id": "8G2x9gOozGDZ"
      }
    },
    {
      "cell_type": "markdown",
      "source": [
        "Uber's business objectives are to expand its global transportation and delivery network, provide a reliable and convenient platform for users, and achieve profitability through innovation, safety, and strategic expansion into new markets like freight and food delivery"
      ],
      "metadata": {
        "id": "pASKb0qOza21"
      }
    },
    {
      "cell_type": "markdown",
      "source": [
        "# **Conclusion**"
      ],
      "metadata": {
        "id": "gCX9965dhzqZ"
      }
    },
    {
      "cell_type": "markdown",
      "source": [
        "Based on an analysis of its business model and growth strategy, a conclusion on the Uber project finds that it successfully leveraged technology to disrupt the traditional transportation industry, but continues to face challenges related to profitability, regulation, and ethical issues."
      ],
      "metadata": {
        "id": "Fjb1IsQkh3yE"
      }
    },
    {
      "cell_type": "markdown",
      "source": [
        "### ***Hurrah! You have successfully completed your EDA Capstone Project !!!***"
      ],
      "metadata": {
        "id": "gIfDvo9L0UH2"
      }
    },
    {
      "cell_type": "code",
      "source": [
        "Thank you"
      ],
      "metadata": {
        "id": "dYX880etpL0x"
      },
      "execution_count": null,
      "outputs": []
    },
    {
      "cell_type": "code",
      "source": [],
      "metadata": {
        "id": "-6Vl263upPVI"
      },
      "execution_count": null,
      "outputs": []
    }
  ]
}